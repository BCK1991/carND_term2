{
 "cells": [
  {
   "cell_type": "code",
   "execution_count": 1,
   "metadata": {
    "collapsed": true
   },
   "outputs": [],
   "source": [
    "from math import *"
   ]
  },
  {
   "cell_type": "code",
   "execution_count": 2,
   "metadata": {
    "collapsed": true
   },
   "outputs": [],
   "source": [
    "# function to calculate Guassian\n",
    "def f(mu, sigma2, x):\n",
    "    return (1/sqrt(2*pi*sigma2))*exp(-0.5*pow((x-mu),2)/sigma2)"
   ]
  },
  {
   "cell_type": "code",
   "execution_count": 3,
   "metadata": {},
   "outputs": [
    {
     "name": "stdout",
     "output_type": "stream",
     "text": [
      "0.12098536225957168\n"
     ]
    }
   ],
   "source": [
    "print(f(10., 4., 8.))"
   ]
  },
  {
   "cell_type": "code",
   "execution_count": 4,
   "metadata": {
    "collapsed": true
   },
   "outputs": [],
   "source": [
    "# update function for two Gaussians \n",
    "def update(mean1, var1, mean2, var2):\n",
    "    new_mean = (1/(var1+var2))*(mean1*var2+mean2*var1)\n",
    "    new_var = (1/((1/var1)+(1/var2)))\n",
    "    return [new_mean, new_var]\n"
   ]
  },
  {
   "cell_type": "code",
   "execution_count": 5,
   "metadata": {},
   "outputs": [
    {
     "name": "stdout",
     "output_type": "stream",
     "text": [
      "[12.4, 1.6]\n"
     ]
    }
   ],
   "source": [
    "print(update(10., 8., 13., 2.))"
   ]
  },
  {
   "cell_type": "code",
   "execution_count": 6,
   "metadata": {
    "collapsed": true
   },
   "outputs": [],
   "source": [
    "# predict function\n",
    "def predict(mean1, var1, mean2, var2):\n",
    "    new_mean = mean1+mean2\n",
    "    new_var = var1 + var2\n",
    "    return [new_mean, new_var]"
   ]
  },
  {
   "cell_type": "code",
   "execution_count": 7,
   "metadata": {},
   "outputs": [
    {
     "name": "stdout",
     "output_type": "stream",
     "text": [
      "[22.0, 8.0]\n"
     ]
    }
   ],
   "source": [
    "print(predict(10., 4., 12., 4.))"
   ]
  },
  {
   "cell_type": "code",
   "execution_count": 8,
   "metadata": {
    "collapsed": true
   },
   "outputs": [],
   "source": [
    "# multidimensinal Kalman filter\n",
    "from matrix import matrix\n"
   ]
  },
  {
   "cell_type": "code",
   "execution_count": 17,
   "metadata": {},
   "outputs": [
    {
     "name": "stdout",
     "output_type": "stream",
     "text": [
      "[0.9990009990009988]\n",
      "[0.0]\n",
      " \n",
      "[0.999001995012966]\n",
      "[0.998004987033911]\n",
      " \n",
      "[0.8330557867750087]\n",
      "[0.49966702735236485]\n",
      " \n",
      "x =  [[3.9996664447958645], [0.9999998335552873]] \n",
      "P =  [[2.3318904241194827, 0.9991676099921091], [0.9991676099921067, 0.49950058263974184]]\n"
     ]
    }
   ],
   "source": [
    "def kalman_filter(x, P):\n",
    "        for n in range(len(measurements)):\n",
    "\n",
    "            # measurement update\n",
    "            z = matrix([[measurements[n]]])\n",
    "\n",
    "            y = z  - ( H * x )\n",
    "            s = H * P * H.transpose() + R\n",
    "            K = P * H.transpose() * s.inverse()\n",
    "            x = x + ( K * y )\n",
    "\n",
    "            P = (I - (K * H)) * P\n",
    "            # prediction\n",
    "            x = (F*x)+ u\n",
    "            P = F * P * F.transpose()\n",
    "            #print(x, P)\n",
    "            K.show()\n",
    "        return x,P\n",
    "\n",
    "############################################\n",
    "### use the code below to test your filter!\n",
    "############################################\n",
    "\n",
    "measurements = [1, 2, 3]\n",
    "\n",
    "x = matrix([[0.], [0.]]) # initial state (location and velocity)\n",
    "P = matrix([[1000., 0.], [0., 1000.]]) # initial uncertainty\n",
    "u = matrix([[0.], [0.]]) # external motion\n",
    "F = matrix([[1., 1.], [0, 1.]]) # next state function\n",
    "H = matrix([[1., 0.]]) # measurement function\n",
    "R = matrix([[1.]]) # measurement uncertainty\n",
    "I = matrix([[1., 0.], [0., 1.]]) # identity matrix\n",
    "x, P = kalman_filter(x, P)\n",
    "print(\"x = \", x, \"\\nP = \", P)\n",
    "# output should be:\n",
    "# x: [[3.9996664447958645], [0.9999998335552873]]\n",
    "# P: [[2.3318904241194827, 0.9991676099921091], [0.9991676099921067, 0.49950058263974184]]\n"
   ]
  },
  {
   "cell_type": "code",
   "execution_count": null,
   "metadata": {},
   "outputs": [],
   "source": [
    "import numpy as np \n",
    "import matplotlib.pyplot as plt\n",
    "new = update(10., 8., 13., 2.)\n",
    "values= np.random.normal(new[0],new[1], 10000)\n",
    "val = np.random.normal(10, 8, 10000)\n",
    "val2 = np.random.normal(13, 2, 10000)\n",
    "plt.hist(values,10)\n",
    "plt.hist(val, 100)\n",
    "plt.hist(val2, 25)\n",
    "plt.show()"
   ]
  },
  {
   "cell_type": "code",
   "execution_count": null,
   "metadata": {
    "collapsed": true
   },
   "outputs": [],
   "source": []
  }
 ],
 "metadata": {
  "kernelspec": {
   "display_name": "Python 3",
   "language": "python",
   "name": "python3"
  },
  "language_info": {
   "codemirror_mode": {
    "name": "ipython",
    "version": 3
   },
   "file_extension": ".py",
   "mimetype": "text/x-python",
   "name": "python",
   "nbconvert_exporter": "python",
   "pygments_lexer": "ipython3",
   "version": "3.6.1"
  }
 },
 "nbformat": 4,
 "nbformat_minor": 2
}
